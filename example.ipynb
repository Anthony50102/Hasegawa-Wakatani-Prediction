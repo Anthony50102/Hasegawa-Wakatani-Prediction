{
 "cells": [
  {
   "cell_type": "markdown",
   "metadata": {},
   "source": [
    "# Example of how to use our modules"
   ]
  },
  {
   "cell_type": "markdown",
   "metadata": {},
   "source": [
    "## PreProcess"
   ]
  },
  {
   "cell_type": "code",
   "execution_count": 1,
   "metadata": {},
   "outputs": [
    {
     "name": "stdout",
     "output_type": "stream",
     "text": [
      "Original data - Mean: -0.0000, Std: 0.6839\n",
      "Normalized data - Mean: -0.0000, Std: 0.6539\n",
      "Warning: Normalization may not have worked as expected.\n",
      "\n",
      "Performance Report:\n",
      "normalization_time: 61.83 seconds\n",
      "subsample_time: 53.34 seconds\n",
      "train_save_time: 8.36 seconds\n",
      "test_save_time: 2.26 seconds\n",
      "split_and_save_time: 10.63 seconds\n",
      "total_processing_time: 125.90 seconds\n",
      "Processed file metadata: {'train': {'n_chunks': 16, 'chunk_size': 100, 'processed_shape': (16, 3, 512, 512, 100), 'actual_timesteps': 1600, 'split': 'train', 'invariants': ['$\\\\Gamma_c$', '$\\\\Gamma_n$', '$\\\\mathcal{D}^E$', '$\\\\mathcal{D}^U$', 'energy', 'enstrophy', 'time']}, 'test': {'n_chunks': 4, 'chunk_size': 100, 'processed_shape': (4, 3, 512, 512, 100), 'actual_timesteps': 400, 'split': 'test', 'invariants': ['$\\\\Gamma_c$', '$\\\\Gamma_n$', '$\\\\mathcal{D}^E$', '$\\\\mathcal{D}^U$', 'energy', 'enstrophy', 'time']}, 'total_chunks': 20, 'subsample_rate': 2, 'invariants_processed': ['$\\\\Gamma_c$', '$\\\\Gamma_n$', '$\\\\mathcal{D}^E$', '$\\\\mathcal{D}^U$', 'energy', 'enstrophy', 'time']}\n"
     ]
    }
   ],
   "source": [
    "from preprocess import ProcessingConfig, HDF5Processor\n",
    "from neuralop.data.transforms.normalizers import UnitGaussianNormalizer\n",
    "\n",
    "config = ProcessingConfig(\n",
    "        test_split=.2,\n",
    "        chunk_size=100,\n",
    "        subsample_rate=2,\n",
    "        start_idx=1000,    # Start from the 1000th timestep\n",
    "        end_idx=5000,       # End at the 5000th timestep\n",
    "        normalizer = UnitGaussianNormalizer(dim=[0,2,3]),\n",
    "        normalizer_size = 100,\n",
    "        output_performance_report=True\n",
    "    )\n",
    "    \n",
    "processor = HDF5Processor(\"/Users/anthonypoole/Repositories/hw_snapshots.h5\")\n",
    "metadata = processor.process_file(\n",
    "    train_output_file=\"train_processed.h5\",\n",
    "    test_output_file=\"test_processed.h5\",\n",
    "    config=config\n",
    ")\n",
    "print(f\"Processed file metadata: {metadata}\")"
   ]
  },
  {
   "cell_type": "markdown",
   "metadata": {},
   "source": [
    "## S3 utils"
   ]
  },
  {
   "cell_type": "code",
   "execution_count": 3,
   "metadata": {},
   "outputs": [
    {
     "name": "stdout",
     "output_type": "stream",
     "text": [
      "All required AWS environment variables are set.\n",
      "Uploaded /Users/anthonypoole/Repositories/test2.txt to s3://fnobucket/test2.txt\n",
      "Downloaded s3://fnobucket/test2.txt to ./test2.txt\n"
     ]
    }
   ],
   "source": [
    "import os\n",
    "from s3_utils import check_env_variables, upload, download\n",
    "\n",
    "# # Set the environment variables (for demonstration purposes)\n",
    "# os.environ['AWS_ACCESS_KEY_ID'] = 'your_access_key_id'\n",
    "# os.environ['AWS_SECRET_ACCESS_KEY'] = 'your_secret_access_key'\n",
    "# os.environ['AWS_REGION'] = 'us-east-2'\n",
    "\n",
    "# Check AWS environment variables\n",
    "try:\n",
    "    check_env_variables()\n",
    "except EnvironmentError as e:\n",
    "    print(e)\n",
    "    exit(1)\n",
    "\n",
    "# Upload example\n",
    "upload(\"/Users/anthonypoole/Repositories/test2.txt\", \"fnobucket\",) \n",
    "\n",
    "# Download example\n",
    "download(\"test2.txt\", \"fnobucket\", \".\")"
   ]
  },
  {
   "cell_type": "markdown",
   "metadata": {},
   "source": [
    "## Create Dataset and Loaders"
   ]
  },
  {
   "cell_type": "code",
   "execution_count": 2,
   "metadata": {},
   "outputs": [
    {
     "name": "stdout",
     "output_type": "stream",
     "text": [
      "torch.Size([2, 3, 512, 512, 20])\n",
      "torch.Size([2, 3, 512, 512, 80])\n",
      "torch.Size([2, 7, 20])\n",
      "torch.Size([2, 7, 80])\n"
     ]
    }
   ],
   "source": [
    "from data_utils import CustomDataset, create_dataloaders\n",
    "\n",
    "# Create dataloader\n",
    "train_loader, test_loader = create_dataloaders(\n",
    "    train_file=\"train_processed.h5\",\n",
    "    test_file=\"test_processed.h5\",\n",
    "    batch_size=2,\n",
    "    input_size=20,\n",
    "    drop_last=True,\n",
    ")\n",
    "\n",
    "# Example iteration\n",
    "for batch in test_loader:\n",
    "    x = batch['x']  # Shape: (batch_size, channels, x_dim, y_dim, input_size)\n",
    "    y = batch['y']  # Shape: (batch_size, channels, x_dim, y_dim, chunk_size - input_size)\n",
    "    der_x = batch['der_x']  # Dict of tensors, each shape: (batch_size, input_size, n_invariants)\n",
    "    der_y = batch['der_y']  # Dict of tensors, each shape: (batch_size, chunk_size - input_size, n_invariants)\n",
    "    \n",
    "    print(x.shape)\n",
    "    print(y.shape)\n",
    "    print(der_x.shape)\n",
    "    print(der_y.shape)\n",
    "    break"
   ]
  },
  {
   "cell_type": "markdown",
   "metadata": {},
   "source": [
    "## Model Training"
   ]
  },
  {
   "cell_type": "code",
   "execution_count": null,
   "metadata": {},
   "outputs": [],
   "source": [
    "import os\n",
    "import torch\n",
    "import matplotlib.pyplot as plt\n",
    "import sys\n",
    "from datetime import datetime\n",
    "from neuralop.models import TFNO\n",
    "from neuralop import Trainer\n",
    "from neuralop.training import AdamW\n",
    "from neuralop.data.datasets import load_darcy_flow_small\n",
    "from neuralop.utils import count_model_params\n",
    "from neuralop import LpLoss, H1Loss\n",
    "import wandb\n",
    "\n",
    "# Clear CUDA cache and set device\n",
    "torch.cuda.empty_cache()\n",
    "device = 'cuda' if torch.cuda.is_available() else 'cpu'\n",
    "print(f'Device: {device}')\n",
    "\n",
    "# Model parameters\n",
    "model_params = {\n",
    "    'n_modes': (1, 16, 16),\n",
    "    'in_channels': 1,\n",
    "    'out_channels': 1,\n",
    "    'hidden_channels': 16,\n",
    "    'projection_channels': 64,\n",
    "    'factorization': 'tucker',\n",
    "    'rank': 0.42,\n",
    "    'epochs': 150,\n",
    "}\n",
    "optimizer_params = {\n",
    "    \"lr\": 1e-44,\n",
    "    \"weight_decay\": 1e-4,\n",
    "    \"betas\": (0.95, 0.999),\n",
    "}\n",
    "\n",
    "# Create model\n",
    "model = TFNO(**model_params)\n",
    "model = model.to(device)\n",
    "n_params = count_model_params(model)\n",
    "print(f'\\nOur model has {n_params:,} parameters.')\n",
    "sys.stdout.flush()\n",
    "\n",
    "# Training setup\n",
    "optimizer = AdamW(model.parameters(), **optimizer_params)\n",
    "\n",
    "scheduler = torch.optim.lr_scheduler.CosineAnnealingLR(optimizer, T_max=30)\n",
    "\n",
    "# Loss setup\n",
    "l2loss = LpLoss(d=3, p=2)\n",
    "h1loss = H1Loss(d=3)\n",
    "train_loss = h1loss\n",
    "eval_losses = {'h1': h1loss, 'l2': l2loss}\n",
    "\n",
    "# Print setup information\n",
    "print('\\n### MODEL ###\\n', model)\n",
    "print('\\n### OPTIMIZER ###\\n', optimizer)\n",
    "print('\\n### SCHEDULER ###\\n', scheduler)\n",
    "print('\\n### LOSSES ###')\n",
    "print(f'\\n * Train: {train_loss}')\n",
    "print(f'\\n * Test: {eval_losses}')\n",
    "sys.stdout.flush()\n",
    "\n",
    "# Check to ensure that we have a valid env varibale for wanbd\n",
    "try:\n",
    "    os.environ['WANDB_API_KEY']\n",
    "except:\n",
    "    print(\"There is no env varible for our wandb\")\n",
    "    raise KeyError\n",
    "\n",
    "# Initialize wandb\n",
    "wandb.init(\n",
    "    project=\"fno\",\n",
    ")\n",
    "\n",
    "# Create trainer\n",
    "trainer = Trainer(model=model,\n",
    "                 n_epochs=model_params['epochs'],\n",
    "                 device=device,\n",
    "                 wandb_log=True,\n",
    "                 eval_interval=3,\n",
    "                 use_distributed=False,\n",
    "                 verbose=True,\n",
    "                 #mixed_precision=True\n",
    "                  )\n",
    "\n",
    "# Train model\n",
    "trainer.train(train_loader=train_loader,\n",
    "             test_loaders=test_loader,\n",
    "             optimizer=optimizer,\n",
    "             scheduler=scheduler,\n",
    "             regularizer=False,\n",
    "             training_loss=train_loss,\n",
    "             eval_losses=eval_losses,\n",
    "             )\n",
    "\n",
    "# Finish the run\n",
    "wandb.finish()\n",
    "\n",
    "# Function to generate unique save path\n",
    "def get_unique_save_path(base_path):\n",
    "    timestamp = datetime.now().strftime(\"%Y%m%d_%H%M%S\")\n",
    "    model_name = f\"TFNO_ch{model_params['in_channels']}to{model_params['out_channels']}_\" \\\n",
    "                 f\"hidden{model_params['hidden_channels']}_\" \\\n",
    "                 f\"proj{model_params['projection_channels']}_\" \\\n",
    "                 f\"modes{'x'.join(map(str, model_params['n_modes']))}\"\n",
    "\n",
    "    full_path = os.path.join(base_path, f\"{model_name}_{timestamp}\")\n",
    "\n",
    "    # Ensure uniqueness\n",
    "    counter = 1\n",
    "    while os.path.exists(f\"{full_path}.pt\"):\n",
    "        full_path = os.path.join(base_path, f\"{model_name}_{timestamp}_{counter}\")\n",
    "        counter += 1\n",
    "\n",
    "    return f\"{full_path}.pt\"\n",
    "\n",
    "\n",
    "# Save model\n",
    "save_base_path = '/content/drive/MyDrive'\n",
    "save_path = get_unique_save_path(save_base_path)\n",
    "\n",
    "# Ensure the directory exists\n",
    "os.makedirs(os.path.dirname(save_path), exist_ok=True)\n",
    "\n",
    "# Save model with metadata\n",
    "torch.save({\n",
    "    'model_state_dict': model.state_dict(),\n",
    "    'optimizer_state_dict': optimizer.state_dict(),\n",
    "    'model_params': model_params,\n",
    "}, save_path)\n",
    "\n",
    "print(f\"Model saved to {save_path}\")"
   ]
  }
 ],
 "metadata": {
  "kernelspec": {
   "display_name": "hw",
   "language": "python",
   "name": "python3"
  },
  "language_info": {
   "codemirror_mode": {
    "name": "ipython",
    "version": 3
   },
   "file_extension": ".py",
   "mimetype": "text/x-python",
   "name": "python",
   "nbconvert_exporter": "python",
   "pygments_lexer": "ipython3",
   "version": "3.10.15"
  }
 },
 "nbformat": 4,
 "nbformat_minor": 2
}
